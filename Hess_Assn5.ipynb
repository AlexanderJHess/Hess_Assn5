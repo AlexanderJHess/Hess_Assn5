{
 "cells": [
  {
   "cell_type": "markdown",
   "metadata": {},
   "source": [
    "Alex Hess Assignment 5"
   ]
  },
  {
   "cell_type": "markdown",
   "metadata": {},
   "source": [
    "Part 1: Determining the amount of people who will be snacking on your bird."
   ]
  },
  {
   "cell_type": "code",
   "execution_count": 2,
   "metadata": {},
   "outputs": [
    {
     "name": "stdout",
     "output_type": "stream",
     "text": [
      "The number of no's is: 12\n",
      "The number of sometimes is: 2\n",
      "The total is: 14\n"
     ]
    }
   ],
   "source": [
    "\n",
    "#import csv, read in guest list as csv\n",
    "import csv\n",
    "guestsontheway='C:/Users/Hess/Desktop/coding/guest_list.txt'\n",
    "my_reader = csv.reader(open(guestsontheway, encoding ='utf-8'))\n",
    "\n",
    "#set counter values at zero, then run through our csv file searching for instances of each, adding to the counter when found.\n",
    "No = 0\n",
    "Sometimes = 0\n",
    "total = 0\n",
    "for record in my_reader:\n",
    "    if 'No' in record[0]:\n",
    "        total += 1\n",
    "        No += 1\n",
    "    if 'Sometimes' in record[0]:\n",
    "            total +=1\n",
    "            Sometimes += 1\n",
    "            \n",
    "#print values\n",
    "print(f\"The number of no's is: {No}\")\n",
    "\n",
    "print(f\"The number of sometimes is: {Sometimes}\")\n",
    "\n",
    "print(f\"The total is: {total}\")\n"
   ]
  },
  {
   "cell_type": "markdown",
   "metadata": {},
   "source": [
    "Part 2: Compare to recommended turkey size for given amount of guests"
   ]
  },
  {
   "cell_type": "code",
   "execution_count": 16,
   "metadata": {},
   "outputs": [
    {
     "name": "stdout",
     "output_type": "stream",
     "text": [
      "Minimum number of people for comparison: 15\n",
      "Sized turkey to use in lbs: 20\n"
     ]
    }
   ],
   "source": [
    "\n",
    "\n",
    "#assign empty lists for splitting text file    \n",
    "maxguests=[]\n",
    "minpounds=[]\n",
    "\n",
    "\n",
    "#open second file, read in line by line and assign to variable.\n",
    "turkey_size='C:/Users/Hess/Desktop/coding/turkey_size.txt'\n",
    "with open (turkey_size) as file_object:\n",
    "    sizes=file_object.readlines()\n",
    "    \n",
    "#strip columns and append to empty list files\n",
    "    for size in sizes:\n",
    "            stripped_list=size.rstrip()\n",
    "            split_list=stripped_list.split(\"\\t\")\n",
    "            maxguests.append(split_list[0])\n",
    "            minpounds.append(split_list[1])\n",
    "\n",
    "#remove the column headers\n",
    "guests=maxguests.pop(0)\n",
    "lb=minpounds.pop(0)\n",
    "\n",
    "#assign total turkey eaters to a variable and assure its status as an integer\n",
    "k=int(total)\n",
    "\n",
    "#turn list of guest sizes into a list of integers\n",
    "string=[]\n",
    "for i in maxguests:\n",
    "    string.append(int(i))\n",
    "    \n",
    "\n",
    "#find the minimum party size that is greater than the number of confirmed guests\n",
    "te = (min([x for x in string if x>k]))\n",
    "#assign this value to a new variable wherein we confirm integer status\n",
    "te2=int(te)\n",
    "\n",
    "\n",
    "#print the minimum number of people coming that represents a value with an assigned turkey size\n",
    "print(f\"Minimum number of people for comparison: {te2}\")\n",
    "\n",
    "#determine the indexed placement of this variable \n",
    "variable=string.index(te2)\n",
    "\n",
    "#print the minimum sized turkey to get based on our confirmed number of turkey eaters\n",
    "print(f\"Sized turkey to use in lbs: {minpounds[variable]}\")\n",
    "\n",
    "\n",
    "\n"
   ]
  },
  {
   "cell_type": "markdown",
   "metadata": {},
   "source": [
    "Part 3: Trouble in turkey town, two extra turkey eaters on the way"
   ]
  },
  {
   "cell_type": "code",
   "execution_count": 19,
   "metadata": {},
   "outputs": [
    {
     "name": "stdout",
     "output_type": "stream",
     "text": [
      "The number of undecideds is:3\n",
      "The number of no's is: 13\n",
      "The new total turkey eaters is: 16\n",
      "Minimum number of people for comparison: 20\n",
      "Sized turkey to use in lbs: 25\n"
     ]
    }
   ],
   "source": [
    "\n",
    "#assign empty lists for splitting the guest list\n",
    "person=[]\n",
    "vegetarian=[]\n",
    "\n",
    "#assign guestlist to a variable, read in line by line\n",
    "guestlist='C:/Users/Hess/Desktop/coding/guest_list.txt'\n",
    "with open (guestlist) as file_object:\n",
    "    sizes2=file_object.readlines()\n",
    "\n",
    "#splitthe guest list, append their turkey status to 'vegetarian'\n",
    "    for size2 in sizes2:\n",
    "        stripped_list2=size2.rstrip()\n",
    "        split_list=stripped_list2.split(\"\\t\")\n",
    "        person.append(split_list[0])\n",
    "        vegetarian.append(split_list[1])\n",
    "\n",
    "#based on the late rsvp-ers, we have a no, a sometimes, and a yes, so append to vegetarian\n",
    "vegetarian.append('No')\n",
    "vegetarian.append('Sometimes')\n",
    "vegetarian.append('Yes')\n",
    "#note - as far as i can tell, the name doesnt matter, so i didn't bother appending the guest list.\n",
    "\n",
    "\n",
    "#assign new variables for no, sometimes, and total and populate by counting instances in our list.\n",
    "no2=vegetarian.count(\"No\")\n",
    "sometimes2=vegetarian.count(\"Sometimes\")\n",
    "print(f\"The number of undecideds is:{sometimes2}\")\n",
    "\n",
    "print(f\"The number of no's is: {no2}\")\n",
    "\n",
    "#tally up the nos and sometimes, including the turdy birdies\n",
    "total2=no2+sometimes2\n",
    "print(f\"The new total turkey eaters is: {total2}\")\n",
    "\n",
    "#assign our total turkey eaters to a new variable and assure its integer status\n",
    "k2=int(total2)\n",
    "\n",
    "#determine the Butterball guest size\n",
    "te3 = (min([x for x in string if x>k2]))\n",
    "#assign guest size to a new variable and confirm integer status\n",
    "te4=int(te3)\n",
    "print(f\"Minimum number of people for comparison: {te4}\")\n",
    "\n",
    "#determine index position of the number of guests in butterball\n",
    "variable2=string.index(te4)\n",
    "\n",
    "#determine, based on index position, the sized turkey to use for the updated guest list\n",
    "print(f\"Sized turkey to use in lbs: {minpounds[variable2]}\")\n"
   ]
  },
  {
   "cell_type": "code",
   "execution_count": null,
   "metadata": {},
   "outputs": [],
   "source": []
  }
 ],
 "metadata": {
  "kernelspec": {
   "display_name": "Python 3",
   "language": "python",
   "name": "python3"
  },
  "language_info": {
   "codemirror_mode": {
    "name": "ipython",
    "version": 3
   },
   "file_extension": ".py",
   "mimetype": "text/x-python",
   "name": "python",
   "nbconvert_exporter": "python",
   "pygments_lexer": "ipython3",
   "version": "3.8.3"
  }
 },
 "nbformat": 4,
 "nbformat_minor": 4
}
